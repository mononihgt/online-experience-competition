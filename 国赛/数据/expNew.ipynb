{
 "cells": [
  {
   "cell_type": "code",
   "execution_count": 2,
   "metadata": {},
   "outputs": [],
   "source": [
    "import numpy as np\n",
    "import pandas as pd\n",
    "import matplotlib.pyplot as plt\n",
    "import time\n",
    "import seaborn as sns\n",
    "from datetime import datetime\n",
    "# close the warning messages\n",
    "import warnings\n",
    "warnings.filterwarnings(\"ignore\")"
   ]
  },
  {
   "cell_type": "code",
   "execution_count": null,
   "metadata": {},
   "outputs": [],
   "source": [
    "def calculate_age(birth_date_str):\n",
    "    birth_date = datetime.strptime(birth_date_str, '%Y-%m-%d')\n",
    "    current_date = datetime.now()\n",
    "    age = current_date.year - birth_date.year\n",
    "    if (current_date.month, current_date.day) < (birth_date.month, birth_date.day):\n",
    "        age -= 1\n",
    "    return age\n",
    "\n",
    "timeLocal = time.localtime(time.time())\n",
    "fileName = f\"AI辅助人_{timeLocal.tm_mon}_{timeLocal.tm_mday}_{timeLocal.tm_hour}h{timeLocal.tm_min}.csv\"\n",
    "\n",
    "\n",
    "rawData = pd.read_excel(\"data.xlsx\") # 这个文件名是数据下载之后改的，对应就行\n",
    "rawData[\"expIndex\"] = 0\n",
    "for i in range(len(rawData)):\n",
    "    if \"意愿题\" in rawData[\"随机元素\"][i]:\n",
    "        rawData[\"expIndex\"][i] = 2\n",
    "    else:\n",
    "        rawData[\"expIndex\"][i] = 1\n",
    "# rawData中expIndex为1的提取为exp1结构体，expIndex为2的提取为exp2结构体\n",
    "exp1 = rawData[rawData['expIndex'] == 1]\n",
    "exp2 = rawData[rawData['expIndex'] == 2]\n",
    "\n",
    "exp2.index = range(len(exp2))\n",
    "exp1.index = range(len(exp1))"
   ]
  }
 ],
 "metadata": {
  "kernelspec": {
   "display_name": "env-_-hiwb_G",
   "language": "python",
   "name": "python3"
  },
  "language_info": {
   "codemirror_mode": {
    "name": "ipython",
    "version": 3
   },
   "file_extension": ".py",
   "mimetype": "text/x-python",
   "name": "python",
   "nbconvert_exporter": "python",
   "pygments_lexer": "ipython3",
   "version": "3.8.0"
  }
 },
 "nbformat": 4,
 "nbformat_minor": 2
}
